{
 "cells": [
  {
   "cell_type": "code",
   "execution_count": 1,
   "metadata": {},
   "outputs": [],
   "source": [
    "import numpy as np\n",
    "\n",
    "from matplotlib import pyplot as plt\n",
    "from citk.layer import Dense\n",
    "from citk.model import FFN\n",
    "from citk.functions import ReLU, Linear\n",
    "from citk.losses import MSE\n",
    "from citk.optimisers import ConjugateSGDOptimizer\n",
    "\n",
    "from utils import get_and_process_boston_dataset, visualise_boston, seed_everything\n",
    "\n",
    "%matplotlib inline"
   ]
  },
  {
   "cell_type": "markdown",
   "metadata": {},
   "source": [
    "# Data"
   ]
  },
  {
   "cell_type": "code",
   "execution_count": 47,
   "metadata": {},
   "outputs": [],
   "source": [
    "import random\n",
    "import os\n",
    "\n",
    "from typing import List\n",
    "\n",
    "import numpy as np\n",
    "import pandas as pd\n",
    "\n",
    "from sklearn.datasets import load_diabetes, load_boston\n",
    "from sklearn.preprocessing import QuantileTransformer, StandardScaler\n",
    "from sklearn.model_selection import train_test_split\n",
    "from matplotlib import pyplot as plt\n",
    "\n",
    "\n",
    "def seed_everything(seed_value: int = 42):\n",
    "    random.seed(seed_value)\n",
    "    np.random.seed(seed_value)\n",
    "    os.environ[\"PYTHONHASHSEED\"] = str(seed_value)\n",
    "\n",
    "\n",
    "def continious_stratification(\n",
    "    X_data: np.ndarray,\n",
    "    y_data: np.ndarray,\n",
    "    test_size: float = 0.2,\n",
    "    random_state: int = 42,\n",
    "    shuffle: bool = True,\n",
    "    n_bins: int = 10,\n",
    "):\n",
    "    stratify_col = np.digitize(y_data, np.histogram(y_data, n_bins)[1])\n",
    "    return train_test_split(\n",
    "        X_data,\n",
    "        y_data,\n",
    "        test_size=test_size,\n",
    "        random_state=random_state,\n",
    "        shuffle=shuffle,\n",
    "        stratify=stratify_col,\n",
    "    )\n",
    "\n",
    "\n",
    "def get_and_process_boston_dataset(\n",
    "    random_state: int = 42, normalize_y: bool = True, normalize_X: bool = True\n",
    "):\n",
    "    # Load\n",
    "    X, y = load_diabetes(return_X_y=True)\n",
    "    # Split into train/test\n",
    "    X_train, X_test, y_train, y_test = continious_stratification(\n",
    "        X, y, random_state=random_state\n",
    "    )\n",
    "    # Normalize target\n",
    "    if normalize_y:\n",
    "        tgt_trans = QuantileTransformer(\n",
    "            n_quantiles=300, output_distribution=\"normal\", random_state=random_state\n",
    "        )\n",
    "        y_train = tgt_trans.fit_transform(y_train[:, None])\n",
    "        y_test = tgt_trans.transform(y_test[:, None])\n",
    "    else:\n",
    "        y_train = y_train[:, None]\n",
    "        y_test = y_test[:, None]\n",
    "    # Normalize features\n",
    "    if normalize_X:\n",
    "        feature_trans = StandardScaler()\n",
    "        X_train = feature_trans.fit_transform(X_train)\n",
    "        X_test = feature_trans.transform(X_test)\n",
    "\n",
    "    return X_train, X_test, y_train, y_test\n",
    "\n",
    "\n",
    "def visualise_boston(\n",
    "    X_train: np.ndarray,\n",
    "    X_test: np.ndarray,\n",
    "    y_train: np.ndarray,\n",
    "    y_test: np.ndarray,\n",
    "    only_target: bool = True,\n",
    "):\n",
    "    if not only_target:\n",
    "        for i in range(X_train.shape[1]):\n",
    "            plt.title(f\"Train feature {i}\")\n",
    "            plt.hist(X_train[:, i])\n",
    "            plt.show()\n",
    "\n",
    "            plt.title(f\"Test feature {i}\")\n",
    "            plt.hist(X_test[:, i])\n",
    "            plt.show()\n",
    "\n",
    "    plt.title(\"Train target\")\n",
    "    plt.hist(y_train[:, 0])\n",
    "    plt.show()\n",
    "\n",
    "    plt.title(\"Test target\")\n",
    "    plt.hist(y_test[:, 0])\n",
    "    plt.show()\n",
    "\n",
    "def normalize_df(\n",
    "    train_df: pd.DataFrame,\n",
    "    test_df: pd.DataFrame,\n",
    "    featutre_to_normalize: List[str]\n",
    "):\n",
    "    feature_trans = StandardScaler()\n",
    "    train_df[featutre_to_normalize] = feature_trans.fit_transform(train_df[featutre_to_normalize])\n",
    "    test_df[featutre_to_normalize] = feature_trans.transform(test_df[featutre_to_normalize])\n",
    "    \n",
    "    return train_df, test_df\n",
    "\n",
    "def create_lags(\n",
    "    train_df: pd.DataFrame,\n",
    "    test_df: pd.DataFrame,\n",
    "    lag_cols: List[str],\n",
    "    n_lags: int,\n",
    "    drop_nan: bool =True\n",
    "):\n",
    "\n",
    "    for col in lag_cols:\n",
    "        for sh in range(1,n_lags+1):\n",
    "            train_df[f'{col}_{sh}'] = train_df.shift(sh)[col]\n",
    "            test_df[f'{col}_{sh}'] = test_df.shift(sh)[col] \n",
    "            \n",
    "    if drop_nan:\n",
    "        train_df = train_df.dropna()\n",
    "        test_df = test_df.dropna()\n",
    "            \n",
    "    return train_df, test_df\n",
    "\n",
    "\n"
   ]
  },
  {
   "cell_type": "code",
   "execution_count": 24,
   "metadata": {},
   "outputs": [],
   "source": [
    "stratify_col = np.digitize(y, np.histogram(y, 10)[1])"
   ]
  },
  {
   "cell_type": "code",
   "execution_count": 25,
   "metadata": {},
   "outputs": [
    {
     "data": {
      "text/plain": [
       "array([ 5,  4,  7,  7,  7,  6,  4,  5,  3,  4,  3,  4,  4,  4,  3,  4,  5,\n",
       "        3,  4,  3,  2,  4,  3,  3,  3,  2,  3,  3,  3,  4,  2,  3,  2,  2,\n",
       "        2,  4,  4,  4,  5,  6,  7,  5,  5,  5,  4,  4,  4,  3,  3,  4,  4,\n",
       "        4,  5,  5,  4,  7,  5,  6,  5,  4,  4,  3,  4,  5,  7,  5,  4,  4,\n",
       "        3,  4,  5,  4,  4,  5,  5,  4,  4,  4,  4,  4,  6,  5,  5,  4,  5,\n",
       "        5,  4,  4,  5,  6,  4,  4,  4,  5,  4,  6,  4,  8,  9,  7,  6,  5,\n",
       "        4,  4,  4,  4,  4,  4,  4,  4,  4,  4,  4,  4,  4,  3,  4,  4,  4,\n",
       "        4,  4,  4,  4,  3,  4,  4,  3,  3,  3,  3,  4,  4,  5,  3,  3,  3,\n",
       "        3,  3,  2,  3,  3,  3,  2,  3,  2,  2,  3,  3,  3,  3,  4,  4,  3,\n",
       "        4,  3,  3,  2,  9,  5,  5,  5, 11, 11, 11,  4,  5, 11,  5,  5,  4,\n",
       "        3,  4,  5,  5,  4,  6,  5,  5,  6,  8,  8,  7,  8,  7,  5,  6, 11,\n",
       "        7,  6,  7,  8,  6,  7,  6,  6, 11,  7,  6,  7,  7,  7,  5,  9, 10,\n",
       "       11,  4,  5,  4,  5,  4,  4,  4,  4,  6,  5,  5,  5,  6,  4,  5,  5,\n",
       "        4,  6,  6,  9, 11,  8,  6, 10,  6,  5,  6,  9, 10,  6,  5,  5,  6,\n",
       "        5,  5,  4,  4,  4,  5,  3,  4,  5,  4,  5,  5,  5,  5,  6,  9,  4,\n",
       "        4,  9, 11,  7,  6,  7,  9, 10,  6,  8,  4,  6, 11,  9,  4,  4,  5,\n",
       "        5,  7,  7,  7,  7,  7,  6,  7,  9,  7, 10, 11,  7,  4,  4,  5,  4,\n",
       "        5,  6,  8,  6,  5,  4,  6,  5,  4,  4,  6,  5,  4,  5,  7,  7,  6,\n",
       "        7,  6,  4,  4,  3,  4,  4,  4,  5,  3,  3,  4,  5,  4,  5,  5,  4,\n",
       "        4,  5,  5,  5,  4,  4,  4,  4,  3,  4,  4,  4,  4,  4,  4,  4,  4,\n",
       "        4,  7,  3,  5,  6,  3,  3,  5,  5,  5,  4,  5,  4,  6,  3,  4,  3,\n",
       "        4,  4,  4,  5,  4,  4,  3,  4,  6,  4,  5, 11, 11, 11, 11, 11,  2,\n",
       "        2,  3,  2,  2,  2,  2,  2,  2,  2,  2,  1,  1,  2,  1,  2,  2,  3,\n",
       "        5,  2,  2,  2,  2,  2,  1,  1,  1,  1,  1,  2,  1,  1,  1,  2,  6,\n",
       "        3,  6,  3,  3,  3,  3,  1,  1,  1,  2,  1,  1,  3,  3,  4,  2,  2,\n",
       "        1,  2,  2,  2,  2,  3,  3,  3,  3,  2,  2,  2,  1,  1,  2,  2,  3,\n",
       "        3,  3,  2,  2,  3,  2,  3,  2,  2,  3,  3,  3,  3,  3,  2,  2,  3,\n",
       "        4,  3,  3,  4,  4,  4,  4,  4,  4,  4,  4,  4,  4,  5,  6,  2,  2,\n",
       "        3,  2,  3,  4,  5,  5,  5,  4,  4,  4,  4,  4,  3,  1,  1,  2,  4,\n",
       "        4,  5,  5,  4,  3,  4,  3,  3,  4,  4,  5,  4,  2])"
      ]
     },
     "execution_count": 25,
     "metadata": {},
     "output_type": "execute_result"
    }
   ],
   "source": [
    "stratify_col"
   ]
  },
  {
   "cell_type": "code",
   "execution_count": 14,
   "metadata": {},
   "outputs": [
    {
     "data": {
      "text/plain": [
       "array([2.7310e-02, 0.0000e+00, 7.0700e+00, 0.0000e+00, 4.6900e-01,\n",
       "       6.4210e+00, 7.8900e+01, 4.9671e+00, 2.0000e+00, 2.4200e+02,\n",
       "       1.7800e+01, 3.9690e+02, 9.1400e+00])"
      ]
     },
     "execution_count": 14,
     "metadata": {},
     "output_type": "execute_result"
    }
   ],
   "source": [
    "X[1]"
   ]
  },
  {
   "cell_type": "code",
   "execution_count": 17,
   "metadata": {},
   "outputs": [
    {
     "data": {
      "text/plain": [
       "array([-0.00188202, -0.04464164, -0.05147406, -0.02632783, -0.00844872,\n",
       "       -0.01916334,  0.07441156, -0.03949338, -0.06832974, -0.09220405])"
      ]
     },
     "execution_count": 17,
     "metadata": {},
     "output_type": "execute_result"
    }
   ],
   "source": [
    "X[1]"
   ]
  },
  {
   "cell_type": "code",
   "execution_count": 15,
   "metadata": {},
   "outputs": [
    {
     "data": {
      "text/plain": [
       "array([24. , 21.6, 34.7, 33.4, 36.2, 28.7, 22.9, 27.1, 16.5, 18.9, 15. ,\n",
       "       18.9, 21.7, 20.4, 18.2, 19.9, 23.1, 17.5, 20.2, 18.2, 13.6, 19.6,\n",
       "       15.2, 14.5, 15.6, 13.9, 16.6, 14.8, 18.4, 21. , 12.7, 14.5, 13.2,\n",
       "       13.1, 13.5, 18.9, 20. , 21. , 24.7, 30.8, 34.9, 26.6, 25.3, 24.7,\n",
       "       21.2, 19.3, 20. , 16.6, 14.4, 19.4, 19.7, 20.5, 25. , 23.4, 18.9,\n",
       "       35.4, 24.7, 31.6, 23.3, 19.6, 18.7, 16. , 22.2, 25. , 33. , 23.5,\n",
       "       19.4, 22. , 17.4, 20.9, 24.2, 21.7, 22.8, 23.4, 24.1, 21.4, 20. ,\n",
       "       20.8, 21.2, 20.3, 28. , 23.9, 24.8, 22.9, 23.9, 26.6, 22.5, 22.2,\n",
       "       23.6, 28.7, 22.6, 22. , 22.9, 25. , 20.6, 28.4, 21.4, 38.7, 43.8,\n",
       "       33.2, 27.5, 26.5, 18.6, 19.3, 20.1, 19.5, 19.5, 20.4, 19.8, 19.4,\n",
       "       21.7, 22.8, 18.8, 18.7, 18.5, 18.3, 21.2, 19.2, 20.4, 19.3, 22. ,\n",
       "       20.3, 20.5, 17.3, 18.8, 21.4, 15.7, 16.2, 18. , 14.3, 19.2, 19.6,\n",
       "       23. , 18.4, 15.6, 18.1, 17.4, 17.1, 13.3, 17.8, 14. , 14.4, 13.4,\n",
       "       15.6, 11.8, 13.8, 15.6, 14.6, 17.8, 15.4, 21.5, 19.6, 15.3, 19.4,\n",
       "       17. , 15.6, 13.1, 41.3, 24.3, 23.3, 27. , 50. , 50. , 50. , 22.7,\n",
       "       25. , 50. , 23.8, 23.8, 22.3, 17.4, 19.1, 23.1, 23.6, 22.6, 29.4,\n",
       "       23.2, 24.6, 29.9, 37.2, 39.8, 36.2, 37.9, 32.5, 26.4, 29.6, 50. ,\n",
       "       32. , 29.8, 34.9, 37. , 30.5, 36.4, 31.1, 29.1, 50. , 33.3, 30.3,\n",
       "       34.6, 34.9, 32.9, 24.1, 42.3, 48.5, 50. , 22.6, 24.4, 22.5, 24.4,\n",
       "       20. , 21.7, 19.3, 22.4, 28.1, 23.7, 25. , 23.3, 28.7, 21.5, 23. ,\n",
       "       26.7, 21.7, 27.5, 30.1, 44.8, 50. , 37.6, 31.6, 46.7, 31.5, 24.3,\n",
       "       31.7, 41.7, 48.3, 29. , 24. , 25.1, 31.5, 23.7, 23.3, 22. , 20.1,\n",
       "       22.2, 23.7, 17.6, 18.5, 24.3, 20.5, 24.5, 26.2, 24.4, 24.8, 29.6,\n",
       "       42.8, 21.9, 20.9, 44. , 50. , 36. , 30.1, 33.8, 43.1, 48.8, 31. ,\n",
       "       36.5, 22.8, 30.7, 50. , 43.5, 20.7, 21.1, 25.2, 24.4, 35.2, 32.4,\n",
       "       32. , 33.2, 33.1, 29.1, 35.1, 45.4, 35.4, 46. , 50. , 32.2, 22. ,\n",
       "       20.1, 23.2, 22.3, 24.8, 28.5, 37.3, 27.9, 23.9, 21.7, 28.6, 27.1,\n",
       "       20.3, 22.5, 29. , 24.8, 22. , 26.4, 33.1, 36.1, 28.4, 33.4, 28.2,\n",
       "       22.8, 20.3, 16.1, 22.1, 19.4, 21.6, 23.8, 16.2, 17.8, 19.8, 23.1,\n",
       "       21. , 23.8, 23.1, 20.4, 18.5, 25. , 24.6, 23. , 22.2, 19.3, 22.6,\n",
       "       19.8, 17.1, 19.4, 22.2, 20.7, 21.1, 19.5, 18.5, 20.6, 19. , 18.7,\n",
       "       32.7, 16.5, 23.9, 31.2, 17.5, 17.2, 23.1, 24.5, 26.6, 22.9, 24.1,\n",
       "       18.6, 30.1, 18.2, 20.6, 17.8, 21.7, 22.7, 22.6, 25. , 19.9, 20.8,\n",
       "       16.8, 21.9, 27.5, 21.9, 23.1, 50. , 50. , 50. , 50. , 50. , 13.8,\n",
       "       13.8, 15. , 13.9, 13.3, 13.1, 10.2, 10.4, 10.9, 11.3, 12.3,  8.8,\n",
       "        7.2, 10.5,  7.4, 10.2, 11.5, 15.1, 23.2,  9.7, 13.8, 12.7, 13.1,\n",
       "       12.5,  8.5,  5. ,  6.3,  5.6,  7.2, 12.1,  8.3,  8.5,  5. , 11.9,\n",
       "       27.9, 17.2, 27.5, 15. , 17.2, 17.9, 16.3,  7. ,  7.2,  7.5, 10.4,\n",
       "        8.8,  8.4, 16.7, 14.2, 20.8, 13.4, 11.7,  8.3, 10.2, 10.9, 11. ,\n",
       "        9.5, 14.5, 14.1, 16.1, 14.3, 11.7, 13.4,  9.6,  8.7,  8.4, 12.8,\n",
       "       10.5, 17.1, 18.4, 15.4, 10.8, 11.8, 14.9, 12.6, 14.1, 13. , 13.4,\n",
       "       15.2, 16.1, 17.8, 14.9, 14.1, 12.7, 13.5, 14.9, 20. , 16.4, 17.7,\n",
       "       19.5, 20.2, 21.4, 19.9, 19. , 19.1, 19.1, 20.1, 19.9, 19.6, 23.2,\n",
       "       29.8, 13.8, 13.3, 16.7, 12. , 14.6, 21.4, 23. , 23.7, 25. , 21.8,\n",
       "       20.6, 21.2, 19.1, 20.6, 15.2,  7. ,  8.1, 13.6, 20.1, 21.8, 24.5,\n",
       "       23.1, 19.7, 18.3, 21.2, 17.5, 16.8, 22.4, 20.6, 23.9, 22. , 11.9])"
      ]
     },
     "execution_count": 15,
     "metadata": {},
     "output_type": "execute_result"
    }
   ],
   "source": [
    "y"
   ]
  },
  {
   "cell_type": "code",
   "execution_count": 23,
   "metadata": {},
   "outputs": [
    {
     "data": {
      "text/plain": [
       "array([24. , 21.6, 34.7, 33.4, 36.2, 28.7, 22.9, 27.1, 16.5, 18.9, 15. ,\n",
       "       18.9, 21.7, 20.4, 18.2, 19.9, 23.1, 17.5, 20.2, 18.2, 13.6, 19.6,\n",
       "       15.2, 14.5, 15.6, 13.9, 16.6, 14.8, 18.4, 21. , 12.7, 14.5, 13.2,\n",
       "       13.1, 13.5, 18.9, 20. , 21. , 24.7, 30.8, 34.9, 26.6, 25.3, 24.7,\n",
       "       21.2, 19.3, 20. , 16.6, 14.4, 19.4, 19.7, 20.5, 25. , 23.4, 18.9,\n",
       "       35.4, 24.7, 31.6, 23.3, 19.6, 18.7, 16. , 22.2, 25. , 33. , 23.5,\n",
       "       19.4, 22. , 17.4, 20.9, 24.2, 21.7, 22.8, 23.4, 24.1, 21.4, 20. ,\n",
       "       20.8, 21.2, 20.3, 28. , 23.9, 24.8, 22.9, 23.9, 26.6, 22.5, 22.2,\n",
       "       23.6, 28.7, 22.6, 22. , 22.9, 25. , 20.6, 28.4, 21.4, 38.7, 43.8,\n",
       "       33.2, 27.5, 26.5, 18.6, 19.3, 20.1, 19.5, 19.5, 20.4, 19.8, 19.4,\n",
       "       21.7, 22.8, 18.8, 18.7, 18.5, 18.3, 21.2, 19.2, 20.4, 19.3, 22. ,\n",
       "       20.3, 20.5, 17.3, 18.8, 21.4, 15.7, 16.2, 18. , 14.3, 19.2, 19.6,\n",
       "       23. , 18.4, 15.6, 18.1, 17.4, 17.1, 13.3, 17.8, 14. , 14.4, 13.4,\n",
       "       15.6, 11.8, 13.8, 15.6, 14.6, 17.8, 15.4, 21.5, 19.6, 15.3, 19.4,\n",
       "       17. , 15.6, 13.1, 41.3, 24.3, 23.3, 27. , 50. , 50. , 50. , 22.7,\n",
       "       25. , 50. , 23.8, 23.8, 22.3, 17.4, 19.1, 23.1, 23.6, 22.6, 29.4,\n",
       "       23.2, 24.6, 29.9, 37.2, 39.8, 36.2, 37.9, 32.5, 26.4, 29.6, 50. ,\n",
       "       32. , 29.8, 34.9, 37. , 30.5, 36.4, 31.1, 29.1, 50. , 33.3, 30.3,\n",
       "       34.6, 34.9, 32.9, 24.1, 42.3, 48.5, 50. , 22.6, 24.4, 22.5, 24.4,\n",
       "       20. , 21.7, 19.3, 22.4, 28.1, 23.7, 25. , 23.3, 28.7, 21.5, 23. ,\n",
       "       26.7, 21.7, 27.5, 30.1, 44.8, 50. , 37.6, 31.6, 46.7, 31.5, 24.3,\n",
       "       31.7, 41.7, 48.3, 29. , 24. , 25.1, 31.5, 23.7, 23.3, 22. , 20.1,\n",
       "       22.2, 23.7, 17.6, 18.5, 24.3, 20.5, 24.5, 26.2, 24.4, 24.8, 29.6,\n",
       "       42.8, 21.9, 20.9, 44. , 50. , 36. , 30.1, 33.8, 43.1, 48.8, 31. ,\n",
       "       36.5, 22.8, 30.7, 50. , 43.5, 20.7, 21.1, 25.2, 24.4, 35.2, 32.4,\n",
       "       32. , 33.2, 33.1, 29.1, 35.1, 45.4, 35.4, 46. , 50. , 32.2, 22. ,\n",
       "       20.1, 23.2, 22.3, 24.8, 28.5, 37.3, 27.9, 23.9, 21.7, 28.6, 27.1,\n",
       "       20.3, 22.5, 29. , 24.8, 22. , 26.4, 33.1, 36.1, 28.4, 33.4, 28.2,\n",
       "       22.8, 20.3, 16.1, 22.1, 19.4, 21.6, 23.8, 16.2, 17.8, 19.8, 23.1,\n",
       "       21. , 23.8, 23.1, 20.4, 18.5, 25. , 24.6, 23. , 22.2, 19.3, 22.6,\n",
       "       19.8, 17.1, 19.4, 22.2, 20.7, 21.1, 19.5, 18.5, 20.6, 19. , 18.7,\n",
       "       32.7, 16.5, 23.9, 31.2, 17.5, 17.2, 23.1, 24.5, 26.6, 22.9, 24.1,\n",
       "       18.6, 30.1, 18.2, 20.6, 17.8, 21.7, 22.7, 22.6, 25. , 19.9, 20.8,\n",
       "       16.8, 21.9, 27.5, 21.9, 23.1, 50. , 50. , 50. , 50. , 50. , 13.8,\n",
       "       13.8, 15. , 13.9, 13.3, 13.1, 10.2, 10.4, 10.9, 11.3, 12.3,  8.8,\n",
       "        7.2, 10.5,  7.4, 10.2, 11.5, 15.1, 23.2,  9.7, 13.8, 12.7, 13.1,\n",
       "       12.5,  8.5,  5. ,  6.3,  5.6,  7.2, 12.1,  8.3,  8.5,  5. , 11.9,\n",
       "       27.9, 17.2, 27.5, 15. , 17.2, 17.9, 16.3,  7. ,  7.2,  7.5, 10.4,\n",
       "        8.8,  8.4, 16.7, 14.2, 20.8, 13.4, 11.7,  8.3, 10.2, 10.9, 11. ,\n",
       "        9.5, 14.5, 14.1, 16.1, 14.3, 11.7, 13.4,  9.6,  8.7,  8.4, 12.8,\n",
       "       10.5, 17.1, 18.4, 15.4, 10.8, 11.8, 14.9, 12.6, 14.1, 13. , 13.4,\n",
       "       15.2, 16.1, 17.8, 14.9, 14.1, 12.7, 13.5, 14.9, 20. , 16.4, 17.7,\n",
       "       19.5, 20.2, 21.4, 19.9, 19. , 19.1, 19.1, 20.1, 19.9, 19.6, 23.2,\n",
       "       29.8, 13.8, 13.3, 16.7, 12. , 14.6, 21.4, 23. , 23.7, 25. , 21.8,\n",
       "       20.6, 21.2, 19.1, 20.6, 15.2,  7. ,  8.1, 13.6, 20.1, 21.8, 24.5,\n",
       "       23.1, 19.7, 18.3, 21.2, 17.5, 16.8, 22.4, 20.6, 23.9, 22. , 11.9])"
      ]
     },
     "execution_count": 23,
     "metadata": {},
     "output_type": "execute_result"
    }
   ],
   "source": [
    "y"
   ]
  },
  {
   "cell_type": "code",
   "execution_count": 33,
   "metadata": {},
   "outputs": [
    {
     "data": {
      "text/plain": [
       "[array([[-0.01641217, -0.04464164, -0.03530688, ..., -0.03949338,\n",
       "         -0.07020931, -0.07977773],\n",
       "        [-0.02730979,  0.05068012, -0.02345095, ..., -0.00259226,\n",
       "         -0.01090444, -0.02178823],\n",
       "        [ 0.02354575,  0.05068012, -0.03961813, ..., -0.03949338,\n",
       "         -0.10164355, -0.06735141],\n",
       "        ...,\n",
       "        [ 0.00538306, -0.04464164,  0.05846277, ..., -0.0763945 ,\n",
       "         -0.05140054, -0.02593034],\n",
       "        [ 0.04897352,  0.05068012,  0.00349435, ...,  0.03430886,\n",
       "          0.01331597,  0.03620126],\n",
       "        [-0.03457486, -0.04464164, -0.05901875, ..., -0.0763945 ,\n",
       "         -0.02139368,  0.01549073]]),\n",
       " array([[-0.01641217, -0.04464164, -0.0105172 , ..., -0.03949338,\n",
       "         -0.02139368, -0.03421455],\n",
       "        [ 0.01264814, -0.04464164,  0.01535029, ..., -0.00259226,\n",
       "          0.04506617, -0.06735141],\n",
       "        [-0.0382074 ,  0.05068012,  0.00457217, ...,  0.03430886,\n",
       "          0.01630495, -0.0010777 ],\n",
       "        ...,\n",
       "        [ 0.00538306, -0.04464164,  0.05954058, ...,  0.05091436,\n",
       "         -0.00421986, -0.03007245],\n",
       "        [ 0.05987114, -0.04464164, -0.02129532, ...,  0.07120998,\n",
       "          0.07912108,  0.13561183],\n",
       "        [ 0.01991321, -0.04464164, -0.04069594, ..., -0.03949338,\n",
       "         -0.03075121,  0.00306441]]),\n",
       " array([ 52.,  71.,  78., 104.,  64.,  61.,  87., 156., 222.,  91., 259.,\n",
       "         52., 174., 182.,  83., 341.,  74., 142.,  68., 141., 272., 252.,\n",
       "        253., 115.,  68., 113.,  95., 160., 116., 102., 197.,  61., 151.,\n",
       "        152., 232.,  99., 273., 142., 178.,  77., 155., 292.,  93., 158.,\n",
       "        321., 110., 275., 200., 150.,  66.,  52.,  60., 182., 206., 297.,\n",
       "         95., 196., 135., 310.,  88.,  55., 220., 152., 246., 175., 178.,\n",
       "        214., 148.,  87., 225.,  97.,  98., 332.,  84., 202.,  91., 190.,\n",
       "        104., 212., 109., 241., 230., 184.,  84., 174., 200., 219., 276.,\n",
       "        258.,  48., 195.,  69., 200.,  59.,  63.,  70., 215.,  72., 248.,\n",
       "        118., 270., 140., 185.,  53.,  67., 237., 139.,  57., 202., 122.,\n",
       "        258.,  88.,  78.,  96., 109., 252., 220., 217.,  88., 109., 277.,\n",
       "        111.,  54., 302., 123., 236., 283.,  48., 189.,  90., 230., 125.,\n",
       "         60., 272., 101., 283., 295., 114., 190.,  69., 166.,  85., 172.,\n",
       "         52., 248., 280., 191., 115., 100., 257.,  42., 182., 170., 113.,\n",
       "        147., 201., 137., 120.,  81., 144., 173., 103., 198.,  85., 198.,\n",
       "         84., 259.,  55., 150., 170., 265.,  77.,  72.,  69., 268.,  53.,\n",
       "         77., 288., 164.,  80.,  65., 131.,  55., 258., 127.,  59., 308.,\n",
       "        138., 153.,  96., 244., 296., 183., 192., 162., 127., 279., 178.,\n",
       "        102., 107., 306., 146., 261., 310.,  68., 242.,  96., 129., 128.,\n",
       "        265., 235.,  73.,  49.,  31., 275., 262., 292.,  92., 168.,  81.,\n",
       "        262.,  53.,  97., 102., 124., 124., 245., 178., 210., 150., 245.,\n",
       "        132., 243.,  89.,  58., 216., 179., 259.,  66., 168.,  85.,  88.,\n",
       "         67.,  96.,  89., 235., 220.,  72., 303., 233.,  70.,  84.,  77.,\n",
       "         40., 200., 214.,  51., 281., 128.,  72., 248., 141., 208., 268.,\n",
       "         60.,  55., 140., 145., 229.,  74., 179., 214., 121., 128., 199.,\n",
       "        180., 281., 191., 243.,  59.,  71.,  44., 134., 275., 281.,  43.,\n",
       "         65., 317., 142., 143., 101., 137., 264., 136., 129.,  64.]),\n",
       " array([ 25., 242., 107.,  90., 242., 178., 121., 219.,  90.,  90., 209.,\n",
       "        103., 135.,  92., 177.,  79., 129., 132., 110., 104., 142., 144.,\n",
       "         97., 217., 163.,  99.,  53.,  51., 180., 185.,  47.,  83., 138.,\n",
       "        101., 131., 220., 108.,  85.,  75., 233., 185., 151., 158.,  64.,\n",
       "        143., 293.,  94., 265., 198.,  45., 197., 263., 249., 186.,  47.,\n",
       "        171., 310., 263.,  51.,  86.,  75., 163., 144.,  94., 161., 232.,\n",
       "        126.,  49., 277., 128., 122., 155., 170.,  71., 172., 274.,  72.,\n",
       "        206.,  83., 151., 173., 118., 237., 154., 144.,  93.,  37.,  42.,\n",
       "        225., 187., 131., 150., 200., 111.,  94.,  63.,  65., 141., 134.,\n",
       "        164.,  78., 139.,  65.,  42., 160.,  71., 202.,  63., 233., 116.,\n",
       "        221., 118., 275., 270., 113., 196., 181., 257., 109.,  59., 336.,\n",
       "         48.,  39., 246.,  39., 168.,  90., 346.,  91.,  50.,  49., 111.,\n",
       "        202., 181., 252., 167., 200.,  63., 311.,  97.,  71., 131., 104.,\n",
       "         91., 281.,  72.])]"
      ]
     },
     "execution_count": 33,
     "metadata": {},
     "output_type": "execute_result"
    }
   ],
   "source": [
    "\n",
    "train_test_split(\n",
    "    X,\n",
    "    y,\n",
    "    test_size=0.33,\n",
    "    random_state=142\n",
    ")"
   ]
  },
  {
   "cell_type": "code",
   "execution_count": 48,
   "metadata": {},
   "outputs": [
    {
     "ename": "ValueError",
     "evalue": "The least populated class in y has only 1 member, which is too few. The minimum number of groups for any class cannot be less than 2.",
     "output_type": "error",
     "traceback": [
      "\u001b[0;31m---------------------------------------------------------------------------\u001b[0m",
      "\u001b[0;31mValueError\u001b[0m                                Traceback (most recent call last)",
      "\u001b[0;32m/var/folders/0g/ncm8xx3d24g263gxdz9gdg440000gp/T/ipykernel_61659/1421729872.py\u001b[0m in \u001b[0;36m<module>\u001b[0;34m\u001b[0m\n\u001b[1;32m      4\u001b[0m \u001b[0mX\u001b[0m\u001b[0;34m,\u001b[0m \u001b[0my\u001b[0m \u001b[0;34m=\u001b[0m \u001b[0mload_diabetes\u001b[0m\u001b[0;34m(\u001b[0m\u001b[0mreturn_X_y\u001b[0m\u001b[0;34m=\u001b[0m\u001b[0;32mTrue\u001b[0m\u001b[0;34m)\u001b[0m\u001b[0;34m\u001b[0m\u001b[0;34m\u001b[0m\u001b[0m\n\u001b[1;32m      5\u001b[0m \u001b[0;31m# Split into train/test\u001b[0m\u001b[0;34m\u001b[0m\u001b[0;34m\u001b[0m\u001b[0;34m\u001b[0m\u001b[0m\n\u001b[0;32m----> 6\u001b[0;31m X_train, X_test, y_train, y_test = continious_stratification(\n\u001b[0m\u001b[1;32m      7\u001b[0m     \u001b[0mX\u001b[0m\u001b[0;34m,\u001b[0m \u001b[0my\u001b[0m\u001b[0;34m,\u001b[0m \u001b[0mrandom_state\u001b[0m\u001b[0;34m=\u001b[0m\u001b[0mrandom_state\u001b[0m\u001b[0;34m\u001b[0m\u001b[0;34m\u001b[0m\u001b[0m\n\u001b[1;32m      8\u001b[0m )\n",
      "\u001b[0;32m/var/folders/0g/ncm8xx3d24g263gxdz9gdg440000gp/T/ipykernel_61659/386164548.py\u001b[0m in \u001b[0;36mcontinious_stratification\u001b[0;34m(X_data, y_data, test_size, random_state, shuffle, n_bins)\u001b[0m\n\u001b[1;32m     28\u001b[0m ):\n\u001b[1;32m     29\u001b[0m     \u001b[0mstratify_col\u001b[0m \u001b[0;34m=\u001b[0m \u001b[0mnp\u001b[0m\u001b[0;34m.\u001b[0m\u001b[0mdigitize\u001b[0m\u001b[0;34m(\u001b[0m\u001b[0my_data\u001b[0m\u001b[0;34m,\u001b[0m \u001b[0mnp\u001b[0m\u001b[0;34m.\u001b[0m\u001b[0mhistogram\u001b[0m\u001b[0;34m(\u001b[0m\u001b[0my_data\u001b[0m\u001b[0;34m,\u001b[0m \u001b[0mn_bins\u001b[0m\u001b[0;34m)\u001b[0m\u001b[0;34m[\u001b[0m\u001b[0;36m1\u001b[0m\u001b[0;34m]\u001b[0m\u001b[0;34m)\u001b[0m\u001b[0;34m\u001b[0m\u001b[0;34m\u001b[0m\u001b[0m\n\u001b[0;32m---> 30\u001b[0;31m     return train_test_split(\n\u001b[0m\u001b[1;32m     31\u001b[0m         \u001b[0mX_data\u001b[0m\u001b[0;34m,\u001b[0m\u001b[0;34m\u001b[0m\u001b[0;34m\u001b[0m\u001b[0m\n\u001b[1;32m     32\u001b[0m         \u001b[0my_data\u001b[0m\u001b[0;34m,\u001b[0m\u001b[0;34m\u001b[0m\u001b[0;34m\u001b[0m\u001b[0m\n",
      "\u001b[0;32m~/.local/share/virtualenvs/python_notebook-Zis-PRDe/lib/python3.8/site-packages/sklearn/model_selection/_split.py\u001b[0m in \u001b[0;36mtrain_test_split\u001b[0;34m(test_size, train_size, random_state, shuffle, stratify, *arrays)\u001b[0m\n\u001b[1;32m   2441\u001b[0m         \u001b[0mcv\u001b[0m \u001b[0;34m=\u001b[0m \u001b[0mCVClass\u001b[0m\u001b[0;34m(\u001b[0m\u001b[0mtest_size\u001b[0m\u001b[0;34m=\u001b[0m\u001b[0mn_test\u001b[0m\u001b[0;34m,\u001b[0m \u001b[0mtrain_size\u001b[0m\u001b[0;34m=\u001b[0m\u001b[0mn_train\u001b[0m\u001b[0;34m,\u001b[0m \u001b[0mrandom_state\u001b[0m\u001b[0;34m=\u001b[0m\u001b[0mrandom_state\u001b[0m\u001b[0;34m)\u001b[0m\u001b[0;34m\u001b[0m\u001b[0;34m\u001b[0m\u001b[0m\n\u001b[1;32m   2442\u001b[0m \u001b[0;34m\u001b[0m\u001b[0m\n\u001b[0;32m-> 2443\u001b[0;31m         \u001b[0mtrain\u001b[0m\u001b[0;34m,\u001b[0m \u001b[0mtest\u001b[0m \u001b[0;34m=\u001b[0m \u001b[0mnext\u001b[0m\u001b[0;34m(\u001b[0m\u001b[0mcv\u001b[0m\u001b[0;34m.\u001b[0m\u001b[0msplit\u001b[0m\u001b[0;34m(\u001b[0m\u001b[0mX\u001b[0m\u001b[0;34m=\u001b[0m\u001b[0marrays\u001b[0m\u001b[0;34m[\u001b[0m\u001b[0;36m0\u001b[0m\u001b[0;34m]\u001b[0m\u001b[0;34m,\u001b[0m \u001b[0my\u001b[0m\u001b[0;34m=\u001b[0m\u001b[0mstratify\u001b[0m\u001b[0;34m)\u001b[0m\u001b[0;34m)\u001b[0m\u001b[0;34m\u001b[0m\u001b[0;34m\u001b[0m\u001b[0m\n\u001b[0m\u001b[1;32m   2444\u001b[0m \u001b[0;34m\u001b[0m\u001b[0m\n\u001b[1;32m   2445\u001b[0m     return list(\n",
      "\u001b[0;32m~/.local/share/virtualenvs/python_notebook-Zis-PRDe/lib/python3.8/site-packages/sklearn/model_selection/_split.py\u001b[0m in \u001b[0;36msplit\u001b[0;34m(self, X, y, groups)\u001b[0m\n\u001b[1;32m   1598\u001b[0m         \"\"\"\n\u001b[1;32m   1599\u001b[0m         \u001b[0mX\u001b[0m\u001b[0;34m,\u001b[0m \u001b[0my\u001b[0m\u001b[0;34m,\u001b[0m \u001b[0mgroups\u001b[0m \u001b[0;34m=\u001b[0m \u001b[0mindexable\u001b[0m\u001b[0;34m(\u001b[0m\u001b[0mX\u001b[0m\u001b[0;34m,\u001b[0m \u001b[0my\u001b[0m\u001b[0;34m,\u001b[0m \u001b[0mgroups\u001b[0m\u001b[0;34m)\u001b[0m\u001b[0;34m\u001b[0m\u001b[0;34m\u001b[0m\u001b[0m\n\u001b[0;32m-> 1600\u001b[0;31m         \u001b[0;32mfor\u001b[0m \u001b[0mtrain\u001b[0m\u001b[0;34m,\u001b[0m \u001b[0mtest\u001b[0m \u001b[0;32min\u001b[0m \u001b[0mself\u001b[0m\u001b[0;34m.\u001b[0m\u001b[0m_iter_indices\u001b[0m\u001b[0;34m(\u001b[0m\u001b[0mX\u001b[0m\u001b[0;34m,\u001b[0m \u001b[0my\u001b[0m\u001b[0;34m,\u001b[0m \u001b[0mgroups\u001b[0m\u001b[0;34m)\u001b[0m\u001b[0;34m:\u001b[0m\u001b[0;34m\u001b[0m\u001b[0;34m\u001b[0m\u001b[0m\n\u001b[0m\u001b[1;32m   1601\u001b[0m             \u001b[0;32myield\u001b[0m \u001b[0mtrain\u001b[0m\u001b[0;34m,\u001b[0m \u001b[0mtest\u001b[0m\u001b[0;34m\u001b[0m\u001b[0;34m\u001b[0m\u001b[0m\n\u001b[1;32m   1602\u001b[0m \u001b[0;34m\u001b[0m\u001b[0m\n",
      "\u001b[0;32m~/.local/share/virtualenvs/python_notebook-Zis-PRDe/lib/python3.8/site-packages/sklearn/model_selection/_split.py\u001b[0m in \u001b[0;36m_iter_indices\u001b[0;34m(self, X, y, groups)\u001b[0m\n\u001b[1;32m   1938\u001b[0m         \u001b[0mclass_counts\u001b[0m \u001b[0;34m=\u001b[0m \u001b[0mnp\u001b[0m\u001b[0;34m.\u001b[0m\u001b[0mbincount\u001b[0m\u001b[0;34m(\u001b[0m\u001b[0my_indices\u001b[0m\u001b[0;34m)\u001b[0m\u001b[0;34m\u001b[0m\u001b[0;34m\u001b[0m\u001b[0m\n\u001b[1;32m   1939\u001b[0m         \u001b[0;32mif\u001b[0m \u001b[0mnp\u001b[0m\u001b[0;34m.\u001b[0m\u001b[0mmin\u001b[0m\u001b[0;34m(\u001b[0m\u001b[0mclass_counts\u001b[0m\u001b[0;34m)\u001b[0m \u001b[0;34m<\u001b[0m \u001b[0;36m2\u001b[0m\u001b[0;34m:\u001b[0m\u001b[0;34m\u001b[0m\u001b[0;34m\u001b[0m\u001b[0m\n\u001b[0;32m-> 1940\u001b[0;31m             raise ValueError(\n\u001b[0m\u001b[1;32m   1941\u001b[0m                 \u001b[0;34m\"The least populated class in y has only 1\"\u001b[0m\u001b[0;34m\u001b[0m\u001b[0;34m\u001b[0m\u001b[0m\n\u001b[1;32m   1942\u001b[0m                 \u001b[0;34m\" member, which is too few. The minimum\"\u001b[0m\u001b[0;34m\u001b[0m\u001b[0;34m\u001b[0m\u001b[0m\n",
      "\u001b[0;31mValueError\u001b[0m: The least populated class in y has only 1 member, which is too few. The minimum number of groups for any class cannot be less than 2."
     ]
    }
   ],
   "source": [
    "random_state = 42\n",
    "normalize_y = True\n",
    "normalize_X = True\n",
    "X, y = load_diabetes(return_X_y=True)\n",
    "# Split into train/test\n",
    "X_train, X_test, y_train, y_test = continious_stratification(\n",
    "    X, y, random_state=random_state\n",
    ")"
   ]
  },
  {
   "cell_type": "code",
   "execution_count": 40,
   "metadata": {},
   "outputs": [
    {
     "data": {
      "text/plain": [
       "array([[6.3200e-03, 1.8000e+01, 2.3100e+00, ..., 1.5300e+01, 3.9690e+02,\n",
       "        4.9800e+00],\n",
       "       [2.7310e-02, 0.0000e+00, 7.0700e+00, ..., 1.7800e+01, 3.9690e+02,\n",
       "        9.1400e+00],\n",
       "       [2.7290e-02, 0.0000e+00, 7.0700e+00, ..., 1.7800e+01, 3.9283e+02,\n",
       "        4.0300e+00],\n",
       "       ...,\n",
       "       [6.0760e-02, 0.0000e+00, 1.1930e+01, ..., 2.1000e+01, 3.9690e+02,\n",
       "        5.6400e+00],\n",
       "       [1.0959e-01, 0.0000e+00, 1.1930e+01, ..., 2.1000e+01, 3.9345e+02,\n",
       "        6.4800e+00],\n",
       "       [4.7410e-02, 0.0000e+00, 1.1930e+01, ..., 2.1000e+01, 3.9690e+02,\n",
       "        7.8800e+00]])"
      ]
     },
     "execution_count": 40,
     "metadata": {},
     "output_type": "execute_result"
    }
   ],
   "source": [
    "X #boston"
   ]
  },
  {
   "cell_type": "code",
   "execution_count": 42,
   "metadata": {},
   "outputs": [
    {
     "data": {
      "text/plain": [
       "(506, 13)"
      ]
     },
     "execution_count": 42,
     "metadata": {},
     "output_type": "execute_result"
    }
   ],
   "source": [
    "X.shape #boston"
   ]
  },
  {
   "cell_type": "code",
   "execution_count": 43,
   "metadata": {},
   "outputs": [
    {
     "data": {
      "text/plain": [
       "(506,)"
      ]
     },
     "execution_count": 43,
     "metadata": {},
     "output_type": "execute_result"
    }
   ],
   "source": [
    "y.shape  #boston"
   ]
  },
  {
   "cell_type": "code",
   "execution_count": 49,
   "metadata": {},
   "outputs": [
    {
     "data": {
      "text/plain": [
       "(442, 10)"
      ]
     },
     "execution_count": 49,
     "metadata": {},
     "output_type": "execute_result"
    }
   ],
   "source": [
    "X.shape #diabet"
   ]
  },
  {
   "cell_type": "code",
   "execution_count": 50,
   "metadata": {},
   "outputs": [
    {
     "data": {
      "text/plain": [
       "array([[ 0.03807591,  0.05068012,  0.06169621, ..., -0.00259226,\n",
       "         0.01990842, -0.01764613],\n",
       "       [-0.00188202, -0.04464164, -0.05147406, ..., -0.03949338,\n",
       "        -0.06832974, -0.09220405],\n",
       "       [ 0.08529891,  0.05068012,  0.04445121, ..., -0.00259226,\n",
       "         0.00286377, -0.02593034],\n",
       "       ...,\n",
       "       [ 0.04170844,  0.05068012, -0.01590626, ..., -0.01107952,\n",
       "        -0.04687948,  0.01549073],\n",
       "       [-0.04547248, -0.04464164,  0.03906215, ...,  0.02655962,\n",
       "         0.04452837, -0.02593034],\n",
       "       [-0.04547248, -0.04464164, -0.0730303 , ..., -0.03949338,\n",
       "        -0.00421986,  0.00306441]])"
      ]
     },
     "execution_count": 50,
     "metadata": {},
     "output_type": "execute_result"
    }
   ],
   "source": [
    "X"
   ]
  },
  {
   "cell_type": "code",
   "execution_count": 38,
   "metadata": {},
   "outputs": [
    {
     "name": "stderr",
     "output_type": "stream",
     "text": [
      "/Users/pavloboiko/.local/share/virtualenvs/python_notebook-Zis-PRDe/lib/python3.8/site-packages/sklearn/utils/deprecation.py:87: FutureWarning: Function load_boston is deprecated; `load_boston` is deprecated in 1.0 and will be removed in 1.2.\n",
      "\n",
      "    The Boston housing prices dataset has an ethical problem. You can refer to\n",
      "    the documentation of this function for further details.\n",
      "\n",
      "    The scikit-learn maintainers therefore strongly discourage the use of this\n",
      "    dataset unless the purpose of the code is to study and educate about\n",
      "    ethical issues in data science and machine learning.\n",
      "\n",
      "    In this case special case, you can fetch the dataset from the original\n",
      "    source::\n",
      "\n",
      "        import pandas as pd\n",
      "        import numpy as np\n",
      "\n",
      "\n",
      "        data_url = \"http://lib.stat.cmu.edu/datasets/boston\"\n",
      "        raw_df = pd.read_csv(data_url, sep=\"\\s+\", skiprows=22, header=None)\n",
      "        data = np.hstack([raw_df.values[::2, :], raw_df.values[1::2, :2]])\n",
      "        target = raw_df.values[1::2, 2]\n",
      "\n",
      "    Alternative datasets include the California housing dataset (i.e.\n",
      "    func:`~sklearn.datasets.fetch_california_housing`) and the Ames housing\n",
      "    dataset. You can load the datasets as follows:\n",
      "\n",
      "        from sklearn.datasets import fetch_california_housing\n",
      "        housing = fetch_california_housing()\n",
      "\n",
      "    for the California housing dataset and:\n",
      "\n",
      "        from sklearn.datasets import fetch_openml\n",
      "        housing = fetch_openml(name=\"house_prices\", as_frame=True)\n",
      "\n",
      "    for the Ames housing dataset.\n",
      "    \n",
      "  warnings.warn(msg, category=FutureWarning)\n"
     ]
    },
    {
     "data": {
      "image/png": "[encoded data removed]",
      "text/plain": [
       "<Figure size 432x288 with 1 Axes>"
      ]
     },
     "metadata": {
      "needs_background": "light"
     },
     "output_type": "display_data"
    },
    {
     "data": {
      "image/png": "[encoded data removed]",
      "text/plain": [
       "<Figure size 432x288 with 1 Axes>"
      ]
     },
     "metadata": {
      "needs_background": "light"
     },
     "output_type": "display_data"
    }
   ],
   "source": [
    "RANDOM_SEED = 42\n",
    "\n",
    "seed_everything(RANDOM_SEED)\n",
    "\n",
    "X_train, X_test, y_train, y_test = get_and_process_boston_dataset(random_state=RANDOM_SEED)\n",
    "\n",
    "visualise_boston(X_train, X_test, y_train, y_test)"
   ]
  },
  {
   "cell_type": "markdown",
   "metadata": {},
   "source": [
    "# Create Model"
   ]
  },
  {
   "cell_type": "code",
   "execution_count": 3,
   "metadata": {},
   "outputs": [],
   "source": [
    "model = FFN(\n",
    "    input_shape=X_train.shape[1], \n",
    "    layer_specs=[\n",
    "        Dense(16, nonlinearity=ReLU),\n",
    "        Dense(32, nonlinearity=ReLU),\n",
    "        Dense(1, nonlinearity=Linear)\n",
    "    ], \n",
    "    loss=MSE, \n",
    "    reg_coef=0.01\n",
    ")"
   ]
  },
  {
   "cell_type": "markdown",
   "metadata": {},
   "source": [
    "## Train Model"
   ]
  },
  {
   "cell_type": "code",
   "execution_count": 4,
   "metadata": {},
   "outputs": [
    {
     "data": {
      "application/vnd.jupyter.widget-view+json": {
       "model_id": "793697e0254b4577b7ecf7891c089b93",
       "version_major": 2,
       "version_minor": 0
      },
      "text/plain": [
       "HBox(children=(FloatProgress(value=0.0, description='Training ', max=7000.0, style=ProgressStyle(description_w…"
      ]
     },
     "metadata": {},
     "output_type": "display_data"
    },
    {
     "name": "stdout",
     "output_type": "stream",
     "text": [
      "\n"
     ]
    }
   ],
   "source": [
    "trained, history = model.fit(\n",
    "    train_sample=(X_train, y_train),\n",
    "    validation_sample=(X_test, y_test),\n",
    "    optimiser=ConjugateSGDOptimizer(),\n",
    "    batch_size=32,\n",
    "    epochs=7_000,\n",
    "    verbose=False\n",
    ")"
   ]
  },
  {
   "cell_type": "markdown",
   "metadata": {},
   "source": [
    "# Predict and Visualise losses"
   ]
  },
  {
   "cell_type": "code",
   "execution_count": 5,
   "metadata": {},
   "outputs": [
    {
     "data": {
      "image/png": "[encoded data removed]",
      "text/plain": [
       "<Figure size 432x288 with 1 Axes>"
      ]
     },
     "metadata": {
      "needs_background": "light"
     },
     "output_type": "display_data"
    }
   ],
   "source": [
    "plt.title('Losses')\n",
    "plt.plot(history['train_loss'], label='train')\n",
    "plt.plot(history['validation_loss'], label='validation')\n",
    "plt.xlabel('iteration')\n",
    "plt.ylabel('loss value')\n",
    "plt.legend()\n",
    "plt.show()"
   ]
  },
  {
   "cell_type": "code",
   "execution_count": 6,
   "metadata": {},
   "outputs": [
    {
     "name": "stdout",
     "output_type": "stream",
     "text": [
      "Test MSE: 0.6509809548411389\n",
      "Train MSE: 0.30787698861686386\n"
     ]
    }
   ],
   "source": [
    "prediction = trained.predict(X_test)\n",
    "prediction_train = trained.predict(X_train)\n",
    "\n",
    "print(f\"Test MSE: {MSE(y_test, prediction)[0]}\")\n",
    "print(f\"Train MSE: {MSE(y_train, prediction_train)[0]}\")"
   ]
  },
  {
   "cell_type": "code",
   "execution_count": 7,
   "metadata": {},
   "outputs": [
    {
     "data": {
      "image/png": "[encoded data removed]",
      "text/plain": [
       "<Figure size 432x288 with 1 Axes>"
      ]
     },
     "metadata": {
      "needs_background": "light"
     },
     "output_type": "display_data"
    }
   ],
   "source": [
    "plt.title('Validation Target')\n",
    "plt.plot(prediction, label='prediction')\n",
    "plt.plot(y_test, label='ground truth')\n",
    "plt.legend()\n",
    "plt.show()"
   ]
  },
  {
   "cell_type": "code",
   "execution_count": 8,
   "metadata": {},
   "outputs": [
    {
     "data": {
      "image/png": "[encoded data removed]",
      "text/plain": [
       "<Figure size 432x288 with 1 Axes>"
      ]
     },
     "metadata": {
      "needs_background": "light"
     },
     "output_type": "display_data"
    },
    {
     "data": {
      "image/png": "[encoded data removed]",
      "text/plain": [
       "<Figure size 432x288 with 1 Axes>"
      ]
     },
     "metadata": {
      "needs_background": "light"
     },
     "output_type": "display_data"
    }
   ],
   "source": [
    "plt.title('Validation Prediction Distribution')\n",
    "plt.hist(prediction)\n",
    "plt.show()\n",
    "\n",
    "plt.title('Validation Target Distribution')\n",
    "plt.hist(y_test)\n",
    "plt.show()"
   ]
  },
  {
   "cell_type": "code",
   "execution_count": null,
   "metadata": {},
   "outputs": [],
   "source": []
  }
 ],
 "metadata": {
  "kernelspec": {
   "display_name": "Python 3 (ipykernel)",
   "language": "python",
   "name": "python3"
  },
  "language_info": {
   "codemirror_mode": {
    "name": "ipython",
    "version": 3
   },
   "file_extension": ".py",
   "mimetype": "text/x-python",
   "name": "python",
   "nbconvert_exporter": "python",
   "pygments_lexer": "ipython3",
   "version": "3.8.9"
  }
 },
 "nbformat": 4,
 "nbformat_minor": 4
}
